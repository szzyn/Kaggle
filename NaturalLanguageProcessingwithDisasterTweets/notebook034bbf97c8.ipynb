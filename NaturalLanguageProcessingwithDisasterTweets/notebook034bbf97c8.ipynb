{
  "metadata": {
    "kernelspec": {
      "language": "python",
      "display_name": "Python 3",
      "name": "python3"
    },
    "language_info": {
      "name": "python",
      "version": "3.11.11",
      "mimetype": "text/x-python",
      "codemirror_mode": {
        "name": "ipython",
        "version": 3
      },
      "pygments_lexer": "ipython3",
      "nbconvert_exporter": "python",
      "file_extension": ".py"
    },
    "kaggle": {
      "accelerator": "none",
      "dataSources": [
        {
          "sourceId": 17777,
          "databundleVersionId": 869809,
          "sourceType": "competition"
        }
      ],
      "dockerImageVersionId": 31040,
      "isInternetEnabled": false,
      "language": "python",
      "sourceType": "notebook",
      "isGpuEnabled": false
    },
    "colab": {
      "name": "notebook034bbf97c8",
      "provenance": []
    }
  },
  "nbformat_minor": 0,
  "nbformat": 4,
  "cells": [
    {
      "source": [
        "# https://www.kaggle.com/competitions/nlp-getting-started/submissions\n",
        "# Natural Language Processing with Disaster Tweets\n",
        "\n",
        "# IMPORTANT: SOME KAGGLE DATA SOURCES ARE PRIVATE\n",
        "# RUN THIS CELL IN ORDER TO IMPORT YOUR KAGGLE DATA SOURCES.\n",
        "import kagglehub\n",
        "kagglehub.login()\n"
      ],
      "metadata": {
        "id": "Hji9PyJ3QQ5V"
      },
      "cell_type": "code",
      "outputs": [],
      "execution_count": null
    },
    {
      "source": [
        "# IMPORTANT: RUN THIS CELL IN ORDER TO IMPORT YOUR KAGGLE DATA SOURCES,\n",
        "# THEN FEEL FREE TO DELETE THIS CELL.\n",
        "# NOTE: THIS NOTEBOOK ENVIRONMENT DIFFERS FROM KAGGLE'S PYTHON\n",
        "# ENVIRONMENT SO THERE MAY BE MISSING LIBRARIES USED BY YOUR\n",
        "# NOTEBOOK.\n",
        "\n",
        "nlp_getting_started_path = kagglehub.competition_download('nlp-getting-started')\n",
        "\n",
        "print('Data source import complete.')\n"
      ],
      "metadata": {
        "id": "gpiIeydOQQ5X"
      },
      "cell_type": "code",
      "outputs": [],
      "execution_count": null
    },
    {
      "cell_type": "code",
      "source": [
        "# This Python 3 environment comes with many helpful analytics libraries installed\n",
        "# It is defined by the kaggle/python Docker image: https://github.com/kaggle/docker-python\n",
        "# For example, here's several helpful packages to load\n",
        "\n",
        "import numpy as np # linear algebra\n",
        "import pandas as pd # data processing, CSV file I/O (e.g. pd.read_csv)\n",
        "\n",
        "# Input data files are available in the read-only \"../input/\" directory\n",
        "# For example, running this (by clicking run or pressing Shift+Enter) will list all files under the input directory\n",
        "\n",
        "import os\n",
        "for dirname, _, filenames in os.walk('/kaggle/input'):\n",
        "    for filename in filenames:\n",
        "        print(os.path.join(dirname, filename))\n",
        "\n",
        "# You can write up to 20GB to the current directory (/kaggle/working/) that gets preserved as output when you create a version using \"Save & Run All\"\n",
        "# You can also write temporary files to /kaggle/temp/, but they won't be saved outside of the current session"
      ],
      "metadata": {
        "_uuid": "8f2839f25d086af736a60e9eeb907d3b93b6e0e5",
        "_cell_guid": "b1076dfc-b9ad-4769-8c92-a6c4dae69d19",
        "trusted": true,
        "execution": {
          "iopub.status.busy": "2025-06-29T10:10:56.23172Z",
          "iopub.execute_input": "2025-06-29T10:10:56.232056Z",
          "iopub.status.idle": "2025-06-29T10:10:58.682278Z",
          "shell.execute_reply.started": "2025-06-29T10:10:56.232027Z",
          "shell.execute_reply": "2025-06-29T10:10:58.681211Z"
        },
        "id": "6qkPZlJjQQ5X"
      },
      "outputs": [],
      "execution_count": null
    },
    {
      "cell_type": "code",
      "source": [
        "import pandas as pd\n",
        "\n",
        "train_data = pd.read_csv(\"/kaggle/input/nlp-getting-started/train.csv\")\n",
        "test_data = pd.read_csv(\"/kaggle/input/nlp-getting-started/test.csv\")\n",
        "\n",
        "print(train_data.head())\n"
      ],
      "metadata": {
        "trusted": true,
        "execution": {
          "iopub.status.busy": "2025-06-29T10:10:58.684337Z",
          "iopub.execute_input": "2025-06-29T10:10:58.684763Z",
          "iopub.status.idle": "2025-06-29T10:10:58.785194Z",
          "shell.execute_reply.started": "2025-06-29T10:10:58.684738Z",
          "shell.execute_reply": "2025-06-29T10:10:58.783965Z"
        },
        "id": "A4qKAYfnQQ5X"
      },
      "outputs": [],
      "execution_count": null
    },
    {
      "cell_type": "code",
      "source": [
        "from sklearn.feature_extraction.text import TfidfVectorizer\n",
        "\n",
        "vectorizer = TfidfVectorizer(stop_words='english', max_features=10000)\n",
        "X_train = vectorizer.fit_transform(train_data[\"text\"])\n",
        "y_train = train_data[\"target\"]\n"
      ],
      "metadata": {
        "trusted": true,
        "execution": {
          "iopub.status.busy": "2025-06-29T10:11:00.09185Z",
          "iopub.execute_input": "2025-06-29T10:11:00.092724Z",
          "iopub.status.idle": "2025-06-29T10:11:01.112074Z",
          "shell.execute_reply.started": "2025-06-29T10:11:00.09269Z",
          "shell.execute_reply": "2025-06-29T10:11:01.111033Z"
        },
        "id": "0d6BPzMJQQ5X"
      },
      "outputs": [],
      "execution_count": null
    },
    {
      "cell_type": "code",
      "source": [
        "from sklearn.linear_model import LogisticRegression\n",
        "\n",
        "model = LogisticRegression(max_iter=1000)\n",
        "model.fit(X_train, y_train)\n"
      ],
      "metadata": {
        "trusted": true,
        "execution": {
          "iopub.status.busy": "2025-06-29T10:11:45.703665Z",
          "iopub.execute_input": "2025-06-29T10:11:45.704147Z",
          "iopub.status.idle": "2025-06-29T10:11:46.892778Z",
          "shell.execute_reply.started": "2025-06-29T10:11:45.70412Z",
          "shell.execute_reply": "2025-06-29T10:11:46.89202Z"
        },
        "id": "dzk41cogQQ5X"
      },
      "outputs": [],
      "execution_count": null
    },
    {
      "cell_type": "code",
      "source": [
        "from sklearn.model_selection import cross_val_score\n",
        "\n",
        "scores = cross_val_score(model, X_train, y_train, cv=5, scoring=\"accuracy\")\n",
        "print(\"Mean CV accuracy:\", scores.mean())\n"
      ],
      "metadata": {
        "trusted": true,
        "execution": {
          "iopub.status.busy": "2025-06-29T10:11:58.228514Z",
          "iopub.execute_input": "2025-06-29T10:11:58.229356Z",
          "iopub.status.idle": "2025-06-29T10:11:59.869775Z",
          "shell.execute_reply.started": "2025-06-29T10:11:58.229321Z",
          "shell.execute_reply": "2025-06-29T10:11:59.867977Z"
        },
        "id": "75iXfVpOQQ5Y"
      },
      "outputs": [],
      "execution_count": null
    },
    {
      "cell_type": "code",
      "source": [
        "X_test = vectorizer.transform(test_data[\"text\"])\n",
        "predictions = model.predict(X_test)\n",
        "\n",
        "submission = pd.DataFrame({\"id\": test_data[\"id\"], \"target\": predictions})\n",
        "submission.to_csv(\"submission.csv\", index=False)\n"
      ],
      "metadata": {
        "trusted": true,
        "execution": {
          "iopub.status.busy": "2025-06-29T10:12:20.118333Z",
          "iopub.execute_input": "2025-06-29T10:12:20.119767Z",
          "iopub.status.idle": "2025-06-29T10:12:20.236089Z",
          "shell.execute_reply.started": "2025-06-29T10:12:20.11972Z",
          "shell.execute_reply": "2025-06-29T10:12:20.23491Z"
        },
        "id": "Yp73i80jQQ5Y"
      },
      "outputs": [],
      "execution_count": null
    }
  ]
}